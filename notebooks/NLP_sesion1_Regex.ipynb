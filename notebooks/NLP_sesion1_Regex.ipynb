{
 "cells": [
  {
   "cell_type": "markdown",
   "metadata": {},
   "source": [
    "# Regex"
   ]
  },
  {
   "cell_type": "markdown",
   "metadata": {
    "id": "mbZebiSbY-e8"
   },
   "source": [
    "<span style=\"color:red\"><center>RegEx </center></span>\n",
    "\n",
    " **¿Qué es?**\n",
    "\n",
    "Una expresión regular es una secuencia de caracteres que forman un patrón de busqueda. Usando el paquete RegEx, podemos buscar dentro de strings o textos estos mismos patrones.\n",
    "\n",
    "El correcto uso de este paquete es muy importante. Y puede aplicarse para cosas como text mining o pre procesamiento de bases de datos \n",
    "\n",
    "**Algunos preliminares**\n",
    "\n",
    "Es necesario hablar de algunos símbolos que nos ayudarán con este paquete.\n",
    "\n",
    " Metacaracteres\n",
    " tenemos algunos caracteres con significado especial\n",
    "\n",
    " | Caracter    | Uso         |\n",
    " | :---        |     ---:   |\n",
    " | \\.   | Cualquier caracter        |\n",
    " | \\$   | empieza con        |\n",
    " | \\*   | ninguna o más ocurrencias        |\n",
    " | \\+   | Una o más ocurrencias        |\n",
    " | \\{ \\}   | Exactamente el número especificado de caracteres        |\n",
    " |  \\|  | entre las opciones        |\n",
    " |  \\( \\)  | capturar o agrupar        |\n",
    "\n",
    " Secuencias secuenciales\n",
    "\n",
    " algunas letras precedidas con un \\ causan busquedas distintas\n",
    " \n",
    " | Caracter      | Uso |\n",
    " | :---        |    ---:   |\n",
    " | \\A      | Busca si los caracteres están al inicio del string      |\n",
    " | \\b   | Busca si los caracteres están al inicio o al final de una palabra (depende donde se ponga)        |\n",
    " | \\B   | Busca si los caracteres están en el string EXCEPTO al inicio o al final de una palabra       |\n",
    " | \\d   | Busca si el string contiene dígitos        |\n",
    " | \\D   | Busca si el string tiene caracteres que NO SEAN dígitos        |\n",
    " | \\s   | Busca si el string contiene espacios        |\n",
    " | \\S   | Busca si el string tiene caracteres que NO SEAN espacios        |\n",
    " | \\w   | Busca si el string contiene caracteres de palabras(letras, dígitos o '_' )        |\n",
    " | \\W   | Busca si el string tiene caracteres que NO SEAN de palabras        |\n",
    " | \\Z   | busca si los caracteeres están el final del string        |\n",
    "\n",
    "  Conjuntos\n",
    " \n",
    " todo lo definido dentro de dos corchetes \\[ \\] define un conjunto de caracteres con el cual se puede hacer busqueda\n",
    " \n",
    " | Caracter      | Uso |\n",
    " | :---        |    ---:   |\n",
    " | \\[arn\\]      | Busca los caracteres  a,r,n      |\n",
    " | \\[a-n\\]   | Busca los caracteres alfabéticos entre a y n        |\n",
    " | \\[^arn\\]   | Busca los caracteres alfabéticos EXCEPTO a,r,n       |\n",
    " | \\[0123\\]   | Busca los caracteres numéricos 0,1,2,3        |\n",
    " | \\[0-9\\]   | Busca los caracteres numéricos entre 0 y 9        |\n",
    " | \\[0-5\\]\\[0-9\\]   | Busca caracteres numéricos de dos digitos desde 00 y 59        |\n",
    " | \\[a-zA-Z\\]   | Busca caracteres alfabéticos, tanto en minúscula como mayúscula        |\n",
    " \n",
    " Los metacaracteres dentro de los corchetes cuentan como caracteres regulares, así que se buscarán estos mismos\n",
    "\n",
    "El Paquete re\n",
    "Vamos ahora a trabajar con el paquete re y sus distintas funciones\n",
    "\n",
    "\n"
   ]
  },
  {
   "cell_type": "markdown",
   "metadata": {},
   "source": [
    "Herramienta Regex: https://regex101.com/"
   ]
  },
  {
   "cell_type": "markdown",
   "metadata": {},
   "source": [
    "Documentación: https://docs.python.org/3/library/re.html"
   ]
  },
  {
   "cell_type": "code",
   "execution_count": 1,
   "metadata": {
    "colab": {
     "base_uri": "https://localhost:8080/"
    },
    "id": "cHa4_6B8Y0VL",
    "outputId": "e2cb5341-e2e3-4b7a-ae81-f19ed6dce160"
   },
   "outputs": [
    {
     "name": "stdout",
     "output_type": "stream",
     "text": [
      "['e', 'a', 'c', 'a', 'd', 'e', 'a', 'd', 'e', 'e']\n",
      "Sí, hay coincidencias\n"
     ]
    }
   ],
   "source": [
    "#  Importamos el paquete\n",
    "import re\n",
    "\n",
    "# ### **Función *findall()***\n",
    "# Esta función nos devolvera una lista con todos las coincidencias encontradas en los textos.\n",
    "# En primer lugar, veamos ejemplos donde hay coincidencias entre el patrón y nuestra cadena de texto.\n",
    "\n",
    "Texto1_f=\"Primera cadena de texto\"\n",
    "x1=re.findall(\"[a-f]\",Texto1_f) #elemento requerido, cadena de texto\n",
    "print(x1)\n",
    "\n",
    "if (x1):\n",
    "  print(\"Sí, hay coincidencias\")\n",
    "else:\n",
    "  print(\"No hay coincidencias\")\n"
   ]
  },
  {
   "cell_type": "code",
   "execution_count": 2,
   "metadata": {
    "colab": {
     "base_uri": "https://localhost:8080/"
    },
    "id": "gKiHcr7ZZbAO",
    "outputId": "77a0a9e3-c261-4a1a-a907-67094e30d4b5"
   },
   "outputs": [
    {
     "name": "stdout",
     "output_type": "stream",
     "text": [
      "['Segunda']\n",
      "Sí, hay coincidencias\n"
     ]
    }
   ],
   "source": [
    "# En segundo lugar, veamos ejemplos dónde no hay coincidencias entre el patrón y nuestra cadena de texto.\n",
    "\n",
    "Texto2_f=\"Segunda cadena de texto, veamos\"\n",
    "x2=re.findall(\"té|Segunda|do\",Texto2_f)\n",
    "#print(x2)\n",
    "\n",
    "if (x2):\n",
    "  print(x2)\n",
    "  print(\"Sí, hay coincidencias\")\n",
    "else:\n",
    "  print(\"No hay coincidencias\")\n",
    "\n",
    "\n",
    "# En esta función, se puede poner más de un patrón del que se espera coincidencia en la cadena de texto.\n",
    "\n"
   ]
  },
  {
   "cell_type": "code",
   "execution_count": 4,
   "metadata": {
    "colab": {
     "base_uri": "https://localhost:8080/"
    },
    "id": "Gsw_xmzxZmyL",
    "outputId": "081340c5-d93a-49b5-a0cc-87f55c2b8550"
   },
   "outputs": [
    {
     "name": "stdout",
     "output_type": "stream",
     "text": [
      "['Ter', 'cadena', 'text']\n"
     ]
    }
   ],
   "source": [
    "#busca caracteres alfabeticos\n",
    "Texto3_f=\"Tercera cadena de texto, veamos\"\n",
    "x3=re.findall(\"^Ter|te..|cadena\",Texto3_f)\n",
    "print(x3)\n",
    "\n",
    "\n"
   ]
  },
  {
   "cell_type": "code",
   "execution_count": 5,
   "metadata": {
    "colab": {
     "base_uri": "https://localhost:8080/"
    },
    "id": "9we5nIktZsAm",
    "outputId": "3d65948f-72b9-4852-b221-d9514558eaea"
   },
   "outputs": [
    {
     "name": "stdout",
     "output_type": "stream",
     "text": [
      "<re.Match object; span=(6, 7), match='e'>\n",
      "Posicion del primer e que no está al inicio ni fin:  6\n"
     ]
    }
   ],
   "source": [
    "# ### **Función *search()***\n",
    "\n",
    "# Esta función busca en la cadena una coincidencia y devuelve un *Match object* si existe.\n",
    "# \n",
    "#  Si hay más de una coincidencia, solo se devolverá la primera coincidencia.\n",
    "\n",
    "# In[46]:\n",
    "# \"r\" al principio de la cadena es una marca que indica una cadena cruda (raw string).\n",
    "#\"\\B\" es una secuencia de escape que se utiliza en expresiones regulares para coincidir con una posición que no está al principio ni al final de una palabra.\n",
    "# \"e\" es el carácter que estás buscando.\n",
    "\n",
    "Texto1_s=\"eABC defgh IJK éí ae\"\n",
    "x1 = re.search(r\"\\Be\", Texto1_s)\n",
    "print(x1)\n",
    "print(\"Posicion del primer e que no está al inicio ni fin: \", x1.start()) \n",
    "\n"
   ]
  },
  {
   "cell_type": "code",
   "execution_count": 6,
   "metadata": {
    "colab": {
     "base_uri": "https://localhost:8080/"
    },
    "id": "IeudvDFIaLJ8",
    "outputId": "2641001c-368c-4339-bef4-ff8abc399383"
   },
   "outputs": [
    {
     "name": "stdout",
     "output_type": "stream",
     "text": [
      "<re.Match object; span=(3, 4), match=' '>\n",
      "Posición de primera cadena que no contiene digítos:  3\n"
     ]
    }
   ],
   "source": [
    "\n",
    "Texto2_s=\"134 ABC45 abc xyz\"\n",
    "x2 = re.search(\"\\D\", Texto2_s)\n",
    "print(x2)\n",
    "print(\"Posición de primera cadena que no contiene digítos: \", x2.start()) \n",
    "\n",
    "\n"
   ]
  },
  {
   "cell_type": "code",
   "execution_count": 7,
   "metadata": {
    "colab": {
     "base_uri": "https://localhost:8080/"
    },
    "id": "k6QAxQ3jaP-O",
    "outputId": "b5d7059b-7bfe-4f03-caa2-74b6fbface3b"
   },
   "outputs": [
    {
     "name": "stdout",
     "output_type": "stream",
     "text": [
      "Posición primera en que hay un espacio en blanco o hay digítos:  1\n"
     ]
    }
   ],
   "source": [
    "# Igualmente que en los ejemplos de la función Findall(), se puede poner más de un patrón del que se espera coincidencia en la cadena de texto.\n",
    "# \"\\d\": Esta es una secuencia de escape que se utiliza en expresiones regulares para coincidir con cualquier dígito numérico. En este caso, coincide con los dígitos en la cadena.\n",
    "# \"\\s\": Esta es una secuencia de escape que se utiliza en expresiones regulares para coincidir con cualquier carácter de espacio en blanco, como espacios o tabulaciones.\n",
    "Texto3_s=\"N123 ABC45 abc xyz\"\n",
    "x3 = re.search(\"\\d|\\s\", Texto3_s)\n",
    "print(\"Posición primera en que hay un espacio en blanco o hay digítos: \", x3.start()) \n",
    "\n",
    "\n"
   ]
  },
  {
   "cell_type": "code",
   "execution_count": 8,
   "metadata": {
    "colab": {
     "base_uri": "https://localhost:8080/"
    },
    "id": "7t-aSQ43aT5T",
    "outputId": "efb97460-8e41-4f57-f668-b3b924ca3a9a"
   },
   "outputs": [
    {
     "name": "stdout",
     "output_type": "stream",
     "text": [
      "['', '', '', '', '', '', '', '', '', '', '', '', '', '', '', '', '', '', '', '', '', '', '', '', '', '', '', '']\n"
     ]
    }
   ],
   "source": [
    "# ### **Función *split()***\n",
    "\n",
    "# Esta función busca el caracter y genera un corte de la cadena en las posiciones en donde se encuentra el caracter. \n",
    "# Aquí se utiliza re.split(\".\", Texto1_sp) para dividir la cadena Texto1_sp en fragmentos basados en el punto ('.'). \n",
    "# Sin embargo, hay un problema con el patrón utilizado. En una expresión regular, el punto ('.') es un carácter especial que coincide con cualquier carácter. Por lo tanto, en lugar de dividir la cadena en función de los puntos,\n",
    "# este patrón dividirá la cadena en cada carácter individual, lo que no es la intención.\n",
    "Texto1_sp=\"El bueno. El malo. Y el feo\"\n",
    "x1=re.split(\".\", Texto1_sp)\n",
    "print(x1)\n",
    "\n",
    "\n"
   ]
  },
  {
   "cell_type": "code",
   "execution_count": 9,
   "metadata": {
    "colab": {
     "base_uri": "https://localhost:8080/"
    },
    "id": "bY_WuF-kaXPX",
    "outputId": "3897a75c-1068-4c34-8e33-5216063f4c86"
   },
   "outputs": [
    {
     "name": "stdout",
     "output_type": "stream",
     "text": [
      "['El bueno', ' El malo', ' Y el feo']\n"
     ]
    }
   ],
   "source": [
    "# Por qué sucede esto? porque . es un metacaracter. Para que se cuente como un caracter normal, se puede usar \\[.\\] ó \\\\.\n",
    "\n",
    "x1=re.split(\"\\.\", Texto1_sp)\n",
    "print(x1)\n",
    "\n",
    "\n"
   ]
  },
  {
   "cell_type": "code",
   "execution_count": 10,
   "metadata": {
    "colab": {
     "base_uri": "https://localhost:8080/"
    },
    "id": "E-MZSdG0aa9o",
    "outputId": "ea50d495-5da4-4b44-be9f-555fa94a5421"
   },
   "outputs": [
    {
     "name": "stdout",
     "output_type": "stream",
     "text": [
      "['El bu', 'no. El malo. Y ', 'l f', 'o']\n"
     ]
    }
   ],
   "source": [
    "# el caracter que se busca va a desaparecer durante el corte\n",
    "\n",
    "x2=re.split('e', Texto1_sp)\n",
    "print(x2)\n",
    "\n",
    "\n"
   ]
  },
  {
   "cell_type": "code",
   "execution_count": 11,
   "metadata": {
    "colab": {
     "base_uri": "https://localhost:8080/"
    },
    "id": "VLpiCl0ZaeS3",
    "outputId": "bcc36086-4658-424c-8ef5-d790c4208f2a"
   },
   "outputs": [
    {
     "name": "stdout",
     "output_type": "stream",
     "text": [
      "['Sólo quiero cortar aquí', ' El resto no. Por favor no cortes más']\n"
     ]
    }
   ],
   "source": [
    "# se puede decir el número máximo de separaciones\n",
    "\n",
    "Texto2_sp='Sólo quiero cortar aquí. El resto no. Por favor no cortes más'\n",
    "x3=re.split('\\.', Texto2_sp, 1)\n",
    "print(x3)\n",
    "\n",
    "\n"
   ]
  },
  {
   "cell_type": "code",
   "execution_count": 12,
   "metadata": {
    "colab": {
     "base_uri": "https://localhost:8080/"
    },
    "id": "3pAsn6BXahy1",
    "outputId": "138012d5-9fc5-4fb0-faec-9a127245c51c"
   },
   "outputs": [
    {
     "name": "stdout",
     "output_type": "stream",
     "text": [
      "vAmos A 1hAcer unos pequeños cAmbios.\n"
     ]
    }
   ],
   "source": [
    "# ### **Función *sub()***\n",
    "\n",
    "# Con esta función podemos buscar un caracter en la cadena, y reemplazarlo con otro de nuestra elección\n",
    "#'[a]' es una expresión regular que representa un conjunto de caracteres que contiene solo la letra \"a\". \n",
    "# El conjunto de corchetes [a] coincide con cualquier instancia de la letra \"a\" en la cadena.\n",
    "# 'A' es el valor con el que se reemplazará cada coincidencia de la letra \"a\" en la cadena.\n",
    "\n",
    "Texto_1_sub='vamos a 1hacer unos pequeños cambios.'\n",
    "x1=re.sub('[a]', 'A', Texto_1_sub)\n",
    "print(x1)\n",
    "\n",
    "\n"
   ]
  },
  {
   "cell_type": "code",
   "execution_count": 13,
   "metadata": {
    "colab": {
     "base_uri": "https://localhost:8080/"
    },
    "id": "9qKRA1wOakSu",
    "outputId": "bada3472-33bc-4cc1-ae67-28e879856ce4"
   },
   "outputs": [
    {
     "name": "stdout",
     "output_type": "stream",
     "text": [
      "Vamos V 1hacer Vnos Vequeños Vambios.\n"
     ]
    }
   ],
   "source": [
    "# Podemos usar las secuencias especiales para hacer restricciones a lo que reemplaza\n",
    "\n",
    "#r'\\b[a-z]' es una expresión regular que tiene dos partes importantes:\n",
    "#    \\b es una palabra de límite (word boundary). Indica el límite entre una palabra y un no palabra en la cadena.\n",
    "#    [a-z] representa cualquier letra minúscula en el alfabeto inglés.\n",
    "#'V' es el valor con el que se reemplazarán todas las coincidencias encontradas.\n",
    "\n",
    "x2=re.sub(r'\\b[a-z]', 'V', Texto_1_sub)\n",
    "print(x2)\n",
    "\n",
    "\n"
   ]
  },
  {
   "cell_type": "code",
   "execution_count": 14,
   "metadata": {
    "colab": {
     "base_uri": "https://localhost:8080/"
    },
    "id": "RUePWwS_anFd",
    "outputId": "f956cc76-47ef-4ecc-dc18-6ee88820690a"
   },
   "outputs": [
    {
     "name": "stdout",
     "output_type": "stream",
     "text": [
      "vamos v 1hacer vnos Vequeños Vambios.\n"
     ]
    }
   ],
   "source": [
    "# Igual que con split(), podemos reducir el número de veces en las que generamos el reemplazo.\n",
    "#  r'\\bV' es una expresión regular que busca la letra \"V\" al principio de las palabras.\n",
    "#      \\b es un límite de palabra, indicando que \"V\" debe estar al principio de una palabra.\n",
    "#      V es el carácter que se busca al principio de las palabras.\n",
    "#  'v' es el valor con el que se reemplazarán las coincidencias encontradas.\n",
    "#  x2 es la cadena en la que se realizará la búsqueda y sustitución.\n",
    "#  2 es el cuarto argumento de re.sub() que indica el número máximo de sustituciones que se realizarán. En este caso, se limita a 2 sustituciones.\n",
    "\n",
    "x3=re.sub(r'\\bV', 'v', x2,3)\n",
    "print(x3)\n",
    "\n",
    "\n"
   ]
  },
  {
   "cell_type": "code",
   "execution_count": 15,
   "metadata": {
    "colab": {
     "base_uri": "https://localhost:8080/"
    },
    "id": "dHM_aFCUDBEN",
    "outputId": "cb7cc67c-a543-4e66-e144-bc5b8a530007"
   },
   "outputs": [],
   "source": [
    "#from google.colab import drive\n",
    "#drive.mount('/content/drive')\n",
    "#%cd '/content/drive/MyDrive/CursoNLP/sesion1/datasets'\n",
    "#%ls "
   ]
  },
  {
   "cell_type": "code",
   "execution_count": null,
   "metadata": {
    "colab": {
     "base_uri": "https://localhost:8080/"
    },
    "id": "jJR2IyMWaqLl",
    "outputId": "aeef524b-cd9b-480a-dbdb-18cf7b6dfe78"
   },
   "outputs": [
    {
     "ename": "FileNotFoundError",
     "evalue": "[Errno 2] No such file or directory: 'lovecraft.txt'",
     "output_type": "error",
     "traceback": [
      "\u001b[31m---------------------------------------------------------------------------\u001b[39m",
      "\u001b[31mFileNotFoundError\u001b[39m                         Traceback (most recent call last)",
      "\u001b[36mCell\u001b[39m\u001b[36m \u001b[39m\u001b[32mIn[16]\u001b[39m\u001b[32m, line 5\u001b[39m\n\u001b[32m      1\u001b[39m \u001b[38;5;66;03m# ### **Flags**\u001b[39;00m\n\u001b[32m      2\u001b[39m \n\u001b[32m      3\u001b[39m \u001b[38;5;66;03m# Python nos permite agregar aún más especificaciones a las anteriores funciones por medio del uso de `flags`\u001b[39;00m\n\u001b[32m----> \u001b[39m\u001b[32m5\u001b[39m love=\u001b[38;5;28;43mopen\u001b[39;49m\u001b[43m(\u001b[49m\u001b[33;43m\"\u001b[39;49m\u001b[33;43mlovecraft.txt\u001b[39;49m\u001b[33;43m\"\u001b[39;49m\u001b[43m,\u001b[49m\u001b[33;43m\"\u001b[39;49m\u001b[33;43mr\u001b[39;49m\u001b[33;43m\"\u001b[39;49m\u001b[43m,\u001b[49m\u001b[43mencoding\u001b[49m\u001b[43m=\u001b[49m\u001b[33;43m\"\u001b[39;49m\u001b[33;43mutf-8\u001b[39;49m\u001b[33;43m\"\u001b[39;49m\u001b[43m)\u001b[49m\n\u001b[32m      6\u001b[39m morador=love.read()\n\u001b[32m      7\u001b[39m \u001b[38;5;28mprint\u001b[39m(morador)\n",
      "\u001b[36mFile \u001b[39m\u001b[32m~/Projects/news-webscrapping/env/lib/python3.11/site-packages/IPython/core/interactiveshell.py:343\u001b[39m, in \u001b[36m_modified_open\u001b[39m\u001b[34m(file, *args, **kwargs)\u001b[39m\n\u001b[32m    336\u001b[39m \u001b[38;5;28;01mif\u001b[39;00m file \u001b[38;5;129;01min\u001b[39;00m {\u001b[32m0\u001b[39m, \u001b[32m1\u001b[39m, \u001b[32m2\u001b[39m}:\n\u001b[32m    337\u001b[39m     \u001b[38;5;28;01mraise\u001b[39;00m \u001b[38;5;167;01mValueError\u001b[39;00m(\n\u001b[32m    338\u001b[39m         \u001b[33mf\u001b[39m\u001b[33m\"\u001b[39m\u001b[33mIPython won\u001b[39m\u001b[33m'\u001b[39m\u001b[33mt let you open fd=\u001b[39m\u001b[38;5;132;01m{\u001b[39;00mfile\u001b[38;5;132;01m}\u001b[39;00m\u001b[33m by default \u001b[39m\u001b[33m\"\u001b[39m\n\u001b[32m    339\u001b[39m         \u001b[33m\"\u001b[39m\u001b[33mas it is likely to crash IPython. If you know what you are doing, \u001b[39m\u001b[33m\"\u001b[39m\n\u001b[32m    340\u001b[39m         \u001b[33m\"\u001b[39m\u001b[33myou can use builtins\u001b[39m\u001b[33m'\u001b[39m\u001b[33m open.\u001b[39m\u001b[33m\"\u001b[39m\n\u001b[32m    341\u001b[39m     )\n\u001b[32m--> \u001b[39m\u001b[32m343\u001b[39m \u001b[38;5;28;01mreturn\u001b[39;00m \u001b[43mio_open\u001b[49m\u001b[43m(\u001b[49m\u001b[43mfile\u001b[49m\u001b[43m,\u001b[49m\u001b[43m \u001b[49m\u001b[43m*\u001b[49m\u001b[43margs\u001b[49m\u001b[43m,\u001b[49m\u001b[43m \u001b[49m\u001b[43m*\u001b[49m\u001b[43m*\u001b[49m\u001b[43mkwargs\u001b[49m\u001b[43m)\u001b[49m\n",
      "\u001b[31mFileNotFoundError\u001b[39m: [Errno 2] No such file or directory: 'lovecraft.txt'"
     ]
    }
   ],
   "source": [
    "# ### **Flags**\n",
    "\n",
    "# Python nos permite agregar aún más especificaciones a las anteriores funciones por medio del uso de `flags`\n",
    "\n",
    "love=open(\"../data/lovecraft.txt\",\"r\",encoding=\"utf-8\")\n",
    "morador=love.read()\n",
    "print(morador)\n",
    "\n",
    "\n"
   ]
  },
  {
   "cell_type": "code",
   "execution_count": 54,
   "metadata": {
    "colab": {
     "base_uri": "https://localhost:8080/"
    },
    "id": "PkLofNtSas2A",
    "outputId": "a6e0014d-c60d-4715-dbad-7f57de26a65e"
   },
   "outputs": [
    {
     "name": "stdout",
     "output_type": "stream",
     "text": [
      "None\n"
     ]
    }
   ],
   "source": [
    "# Ejecutando la siguiente búsqueda no se encuentran coincidencias ¿Por qué?\n",
    "#r'^Night had now approached': Esto es una expresión regular.\n",
    "#   ^ es un anclaje que indica que la búsqueda debe comenzar desde el principio de la cadena.\n",
    "#   'Night had now approached' es el texto que se está buscando exactamente al comienzo de la cadena.\n",
    "\n",
    "print(re.search(r'^Night had now approached',morador))\n",
    "\n",
    "\n"
   ]
  },
  {
   "cell_type": "code",
   "execution_count": 55,
   "metadata": {
    "colab": {
     "base_uri": "https://localhost:8080/"
    },
    "id": "g9HITD3VauiW",
    "outputId": "25c2197a-8a7a-42d6-ad81-8b8d33640e15"
   },
   "outputs": [
    {
     "name": "stdout",
     "output_type": "stream",
     "text": [
      "<re.Match object; span=(5891, 5915), match='Night had now approached'>\n"
     ]
    }
   ],
   "source": [
    "# Usando `flags=re.M`podemos pedirle a Python que haga la búsqueda de coincidencias en modo multilinea\n",
    "\n",
    "print(re.search(r'^Night had now approached',morador,flags=re.M))\n",
    "\n",
    "\n"
   ]
  },
  {
   "cell_type": "code",
   "execution_count": 56,
   "metadata": {
    "colab": {
     "base_uri": "https://localhost:8080/"
    },
    "id": "puyt7TKmawaY",
    "outputId": "45b3bd32-027c-43af-8858-78d8367365a9"
   },
   "outputs": [
    {
     "name": "stdout",
     "output_type": "stream",
     "text": [
      "['pageant', 'pageant', 'pageant', 'pageant', 'pageant', 'pageant', 'pageant']\n",
      "['pageant', 'pageant', 'pageant', 'pageant', 'pageant', 'pageant', 'pageant']\n"
     ]
    }
   ],
   "source": [
    "# También podemos hacer búsquedas sin discriminar entre mayúsculas y minúsculas\n",
    "\n",
    "print(re.findall(r'pageant',morador))\n",
    "\n",
    "print(re.findall(r'pageant',morador,flags=re.I+re.M))"
   ]
  },
  {
   "cell_type": "code",
   "execution_count": null,
   "metadata": {},
   "outputs": [],
   "source": []
  }
 ],
 "metadata": {
  "colab": {
   "provenance": []
  },
  "kernelspec": {
   "display_name": "env",
   "language": "python",
   "name": "python3"
  },
  "language_info": {
   "codemirror_mode": {
    "name": "ipython",
    "version": 3
   },
   "file_extension": ".py",
   "mimetype": "text/x-python",
   "name": "python",
   "nbconvert_exporter": "python",
   "pygments_lexer": "ipython3",
   "version": "3.11.12"
  }
 },
 "nbformat": 4,
 "nbformat_minor": 1
}
