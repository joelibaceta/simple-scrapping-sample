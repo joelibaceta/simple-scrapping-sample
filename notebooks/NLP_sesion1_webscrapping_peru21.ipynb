{
 "cells": [
  {
   "cell_type": "markdown",
   "id": "e9aa4184",
   "metadata": {},
   "source": [
    "<span style=\"color:red\"><center>Web Scraping con Selenium</center></span>\n",
    "\n",
    " <figure>\n",
    " <center>\n",
    " <img src=\"https://sg.com.mx/sites/default/files/styles/570x500/public/images/selenium-logo.png?itok=ulUIFNXO\" width=\"200\" height=\"200\" align=\"center\" /> \n",
    " </center>\n",
    " </figure>\n",
    " \n",
    "<span style=\"color:blue\">Contenido</span>\n",
    "\n",
    "* [¿Qué es Selenium?](#¿Qué-es-Selenium?)\n",
    "* [Partes Básicas de Selenium](#Partes-Básicas-de-Selenium)\n",
    "* [STOP](#STOP)\n",
    "* [Lidiar con Captchas](#Lidiar-con-Captchas)\n",
    "* [Obteniendo información superficial](#Obteniendo-información-superficial)\n",
    "* [Obteniendo información detallada](#Obteniendo-información-detallada)\n",
    "* [Obteniendo documentos](#Obteniendo-documentos)\n",
    "* [iFrames](#iFrames)\n",
    "* [Organizando información](#Organizando-información)\n",
    "* [Utilizando IA para extraer información](#Utilizando-IA-para-extraer-información)\n",
    "\n",
    "<span style=\"color:blue\">¿Qué es Selenium?</span> \n",
    "\n",
    "<span style=\"color:blue\">Partes Básicas de Selenium</span> \n",
    "Para comenzar a usar la API de Selenium para Python, se sugiere seguir los pasos en [Selenium-Python](https://selenium-python.readthedocs.io/installation.html#drivers).\n",
    " \n",
    "**No olvidar que para que esto funcione, se debe instalar el Driver adecuado, dependiendo del Browser a utilizar.**"
   ]
  },
  {
   "cell_type": "code",
   "execution_count": null,
   "id": "05102c5b",
   "metadata": {},
   "outputs": [
    {
     "name": "stdout",
     "output_type": "stream",
     "text": [
      "https://diariocorreo.pe/archivo/todas/2025-09-21/\n",
      "⚠️ Timeout: No cargó en 10 segundos\n"
     ]
    }
   ],
   "source": [
    "from selenium import webdriver\n",
    "from selenium.webdriver.chrome.service import Service\n",
    "from selenium.webdriver.support.ui import WebDriverWait\n",
    "from selenium.webdriver.support import expected_conditions as EC\n",
    "\n",
    "service = Service()\n",
    "options = webdriver.ChromeOptions()\n",
    "driver = webdriver.Chrome(service=service, options=options)\n",
    "\n",
    "import datetime\n",
    "\n",
    "# Obtenemos la fecha actual\n",
    "current_date = datetime.date.today()\n",
    "\n",
    "# Formateamos la fecha en el formato que quieres\n",
    "formatted_date = current_date.strftime(\"%Y-%m-%d\")\n",
    "\n",
    "# Ponemos la fecha en la URL y la almacenamos en una variable\n",
    "url = \"https://diariocorreo.pe/archivo/todas/\" + formatted_date + \"/\"\n",
    "\n",
    "print(url)\n",
    "driver.get(url)\n"
   ]
  },
  {
   "cell_type": "code",
   "execution_count": 11,
   "id": "35649d76",
   "metadata": {},
   "outputs": [],
   "source": [
    "#driver.get(url)"
   ]
  },
  {
   "cell_type": "code",
   "execution_count": 2,
   "id": "31152f62",
   "metadata": {},
   "outputs": [],
   "source": [
    "# se utiliza para obtener el código fuente HTML de la página web actual \n",
    "html = driver.page_source"
   ]
  },
  {
   "cell_type": "code",
   "execution_count": 3,
   "id": "9234d030",
   "metadata": {},
   "outputs": [
    {
     "name": "stdout",
     "output_type": "stream",
     "text": [
      "['__add__', '__class__', '__contains__', '__delattr__', '__dir__', '__doc__', '__eq__', '__format__', '__ge__', '__getattribute__', '__getitem__', '__getnewargs__', '__gt__', '__hash__', '__init__', '__init_subclass__', '__iter__', '__le__', '__len__', '__lt__', '__mod__', '__mul__', '__ne__', '__new__', '__reduce__', '__reduce_ex__', '__repr__', '__rmod__', '__rmul__', '__setattr__', '__sizeof__', '__str__', '__subclasshook__', 'capitalize', 'casefold', 'center', 'count', 'encode', 'endswith', 'expandtabs', 'find', 'format', 'format_map', 'index', 'isalnum', 'isalpha', 'isascii', 'isdecimal', 'isdigit', 'isidentifier', 'islower', 'isnumeric', 'isprintable', 'isspace', 'istitle', 'isupper', 'join', 'ljust', 'lower', 'lstrip', 'maketrans', 'partition', 'removeprefix', 'removesuffix', 'replace', 'rfind', 'rindex', 'rjust', 'rpartition', 'rsplit', 'rstrip', 'split', 'splitlines', 'startswith', 'strip', 'swapcase', 'title', 'translate', 'upper', 'zfill']\n"
     ]
    }
   ],
   "source": [
    "#  es utilizada para imprimir una lista de los atributos y métodos disponibles en el objeto html\n",
    "print(dir(html))"
   ]
  },
  {
   "cell_type": "code",
   "execution_count": 5,
   "id": "9c64e863",
   "metadata": {},
   "outputs": [],
   "source": [
    "#!pip install html2text\n",
    "from bs4 import BeautifulSoup\n",
    "from html2text import html2text\n",
    "import re\n"
   ]
  },
  {
   "cell_type": "code",
   "execution_count": 6,
   "id": "69d13f43",
   "metadata": {},
   "outputs": [],
   "source": [
    "# Para obtener la información principal en aquel momento, podemos utilizar Beautiful Soup y expresiones regulares\n",
    "soup = BeautifulSoup(driver.page_source, 'html.parser')"
   ]
  },
  {
   "cell_type": "code",
   "execution_count": 7,
   "id": "aded4e30",
   "metadata": {},
   "outputs": [
    {
     "name": "stdout",
     "output_type": "stream",
     "text": [
      "NOTICIAS: 25\n"
     ]
    }
   ],
   "source": [
    "# **Note que para realizar este proceso, debemos entender la estructura de la página web.**\n",
    "#    soup es un objeto BeautifulSoup que se crea previamente para analizar el código fuente HTML de una página web.\n",
    "#    find_all() es un método de BeautifulSoup que busca todos los elementos HTML que coinciden con ciertos criterios.\n",
    "#    'a' especifica que estamos buscando elementos a (enlaces).\n",
    "#    {'class': re.compile(f'story-item__title block*')} es un diccionario de atributos que se utilizan como filtros. En este caso, estamos buscando elementos a que tengan un atributo class que cumpla con un patrón específico definido por una expresión regular.\n",
    "TITULOS = len(soup.find_all('a',{'class':re.compile(f'story-item__title block*')}))\n",
    "print(\"NOTICIAS:\", TITULOS)"
   ]
  },
  {
   "cell_type": "code",
   "execution_count": 7,
   "id": "d01380b8",
   "metadata": {},
   "outputs": [
    {
     "name": "stdout",
     "output_type": "stream",
     "text": [
      "<a class=\"story-item__title block overflow-hidden primary-font line-h-xs mt-10\" href=\"/cultura/mayella-lloclla-los-suenos-poco-a-poco-se-pueden-cumplir-entrevista-la-decision-de-amelia-pelicula-peruana-estreno-cineplanet-francisco-lombardi-gustavo-bueno-actriz-noticia/\" itemprop=\"url\">Mayella Lloclla: “Los sueños poco a poco se pueden cumplir” [ENTREVISTA]    </a>\n",
      "\n",
      "<a class=\"story-item__title block overflow-hidden primary-font line-h-xs mt-10\" href=\"/espectaculos/local/deysi-araujo-chanca-a-la-casa-de-magaly-mucho-abuelito-han-puesto-shirley-cherres-ya-caduco-que-dijo-deysi-sobre-chibolin-y-alfredo-benavides-noticia/\" itemprop=\"url\">Deysi Araujo critica a ‘La Casa de Magaly’: “Mucho abuelito han puesto”</a>\n",
      "\n",
      "<a class=\"story-item__title block overflow-hidden primary-font line-h-xs mt-10\" href=\"/politica/lo-ultimo-condenan-al-exfiscal-abel-concha-calla-a-mas-de-9-anos-de-prision-por-trafico-de-influencias-abel-concha-calla-reparacion-civil-prision-lambayeque-chiclayo-poder-judicial-ministerio-publico-corte-suprema-david-cornejo-los-temerarios-del-crimen-noticia/\" itemprop=\"url\">Condenan al exfiscal Abel Concha Calla a 9 años de prisión por tráfico de influencias </a>\n",
      "\n",
      "<a class=\"story-item__title block overflow-hidden primary-font line-h-xs mt-10\" href=\"/economia/sunat-sostiene-nueva-reunion-con-gremios-para-mejorar-el-cumplimiento-tributario-noticia/\" itemprop=\"url\">Sunat sostiene nueva reunión con gremios para mejorar el cumplimiento tributario</a>\n",
      "\n",
      "<a class=\"story-item__title block overflow-hidden primary-font line-h-xs mt-10\" href=\"/lima/lo-ultimo-gore-callao-abren-investigacion-por-financiamiento-de-web-para-promocionar-a-gobernador-ciro-castillo-ministerio-publico-noticia/\" itemprop=\"url\">GORE Callao: Abren investigación por financiamiento de web para promocionar a gobernador Ciro Castillo</a>\n",
      "\n",
      "<a class=\"story-item__title block overflow-hidden primary-font line-h-xs mt-10\" href=\"/cheka/papa-en-apuros-llegara-a-los-hogares-peruanos-lanzan-nueva-novela-que-tiene-la-participacion-de-la-marina-estreno-novela-familiar-actores-peruanos-papa-en-apuros-capitan-de-fragata-de-la-marina-como-participa-la-marina-en-papa-en-apuros-de-que-trata-la-novela-papa-en-apuros-quienes-conforman-el-elenco-de-papa-en-apuros-noticia/\" itemprop=\"url\">‘Papá en Apuros’ llegará a los hogares peruanos: Lanzan nueva novela que tiene la participación de la Marina</a>\n",
      "\n",
      "<a class=\"story-item__title block overflow-hidden primary-font line-h-xs mt-10\" href=\"/lima/policiales/los-olivos-banda-de-delincuentes-desata-balacera-tras-ser-captados-robando-un-edificio-calle-9-cerca-al-parque-siglo-xxi-cuatro-hombres-y-una-mujer-intentan-vaciar-departamento-noticia/\" itemprop=\"url\">Los Olivos: Banda de delincuentes desata balacera tras ser captada robando un edificio</a>\n",
      "\n",
      "<a class=\"story-item__title block overflow-hidden primary-font line-h-xs mt-10\" href=\"/espectaculos/maju-mantilla-nunca-se-habria-separado-de-gustavo-salcedo-y-ahora-el-entrena-en-casa-maju-mantilla-espectaculos-gustavo-salcedo-farandula-magaly-medina-magaly-tv-la-firme-noticia/\" itemprop=\"url\">Maju Mantilla: Nunca se habría separado de Gustavo Salcedo y ahora él entrena en casa</a>\n",
      "\n",
      "<a class=\"story-item__title block overflow-hidden primary-font line-h-xs mt-10\" href=\"/mundo/victor-jara-chile-militar-se-quita-la-vida-para-no-ir-a-la-carcel-tras-sentencia-por-crimen-de-cantautor-chileno-hernan-chacon-soto-salvador-allende-noticia/\" itemprop=\"url\">Militar se quita la vida para no ir a la cárcel tras sentencia por crimen de Víctor Jara</a>\n",
      "\n",
      "<a class=\"story-item__title block overflow-hidden primary-font line-h-xs mt-10\" href=\"/lima/policiales/vmt-roban-mascota-a-familia-en-la-puerta-de-su-casa-morita-villa-maria-del-triunfo-mototaxi-sujetos-armados-perrita-esterilizada-y-delicada-de-salud-noticia/\" itemprop=\"url\">VMT: Roban mascota a familia en la puerta de su casa</a>\n",
      "\n",
      "<a class=\"story-item__title block overflow-hidden primary-font line-h-xs mt-10\" href=\"/espectaculos/local/el-gran-chef-famosos-mayra-goni-y-armando-machuca-pasan-a-noche-de-sentencia-leslie-stewart-mariella-zanetti-homenaje-a-la-ciudad-heroica-de-tacna-noticia/\" itemprop=\"url\">‘El Gran Chef: Famosos’: Mayra Goñi y Armando Machuca quedaron sentenciados</a>\n",
      "\n",
      "<a class=\"story-item__title block overflow-hidden primary-font line-h-xs mt-10\" href=\"/lima/policiales/vmt-sicario-disparo-a-su-complice-cuando-iban-a-amenazar-a-una-comerciante-villa-maria-del-triunfo-jiron-9-de-agosto-copiloto-dispara-contra-el-conductor-noticia/\" itemprop=\"url\">VMT: Sicario disparó a su cómplice cuando iban a amenazar a una comerciante</a>\n",
      "\n",
      "<a class=\"story-item__title block overflow-hidden primary-font line-h-xs mt-10\" href=\"/espectaculos/nicola-porcella-debuta-como-conductor-en-tv-mexicana-conoce-que-programa-cumplio-su-sueno-espacio-matutino-de-las-estrellas-aeropuerto-de-la-ciudad-de-mexico-noticia/\" itemprop=\"url\">Nicola Porcella debuta como conductor de programa mexicano ‘Hoy’: “Ya no soy el más odiado” </a>\n",
      "\n",
      "<a class=\"story-item__title block overflow-hidden primary-font line-h-xs mt-10\" href=\"/politica/el-matrimonio-olvidado-el-dia-en-que-bermejo-y-su-ahora-delator-estuvieron-juntos-guillermo-bermejo-yul-valdivia-asesor-los-operadores-de-la-reconstruccion-noticia/\" itemprop=\"url\">El matrimonio olvidado: el día en que Bermejo y su ahora delator estuvieron juntos</a>\n",
      "\n",
      "<a class=\"story-item__title block overflow-hidden primary-font line-h-xs mt-10\" href=\"/espectaculos/local/genesis-acusa-a-mujer-de-intentar-romper-su-relacion-mostro-actitudes-que-considero-una-falta-de-respeto-kike-marquez-genesis-tapia-exchica-reality-divorcio-infidelidad-abogada-conducta-deshonrosa-falta-de-respeto-noticia/\" itemprop=\"url\">Génesis acusa a mujer de intentar romper su relación: “mostró actitudes que considero una falta de respeto”</a>\n",
      "\n",
      "<a class=\"story-item__title block overflow-hidden primary-font line-h-xs mt-10\" href=\"/peru/orlando-zagazeta-el-hombre-mono-peruano-que-vive-en-la-selva-y-dedica-su-vida-a-salvar-animales-del-trafico-ilegal-orlando-zagazeta-riege-flora-y-fauna-selva-peruana-lima-trafico-ilegal-animales-silvestres-personaje-del-bicentenario-san-martin-noticia/\" itemprop=\"url\">Orlando Zagazeta: El peruano que vive en la selva y dedica su vida a salvar animales del tráfico ilegal</a>\n",
      "\n",
      "<a class=\"story-item__title block overflow-hidden primary-font line-h-xs mt-10\" href=\"/peru/monkey-man-se-estrena-documental-sobre-el-peruano-que-reinserta-monos-sobrevivientes-del-trafico-animal-documental-monkey-man-trafico-animal-cinta-peruana-noticia/\" itemprop=\"url\">Monkey Man: se estrena documental sobre el  peruano que reinserta monos sobrevivientes del tráfico animal</a>\n",
      "\n",
      "<a class=\"story-item__title block overflow-hidden primary-font line-h-xs mt-10\" href=\"/opinion/opinion-aldo-mariategui-cine-malo-y-de-mala-leche-aldo-mariategui-paco-yunque-ii-opinion-lombardi-noticia/\" itemprop=\"url\">[OPINIÓN] Aldo Mariátegui: “Cine malo y de mala leche”</a>\n",
      "\n",
      "<a class=\"story-item__title block overflow-hidden primary-font line-h-xs mt-10\" href=\"/opinion/opinion-richard-arce-la-agenda-pendiente-de-la-cvr-ciencias-sociales-sendero-luminoso-mrta-cvr-noticia/\" itemprop=\"url\">[OPINIÓN] Richard Arce: “La agenda pendiente de la CVR”</a>\n",
      "\n",
      "<a class=\"story-item__title block overflow-hidden primary-font line-h-xs mt-10\" href=\"/lima/vecinos-de-chaclacayo-acusan-a-delincuentes-de-envenenar-a-perros-de-la-zona-para-cometer-delitos-perritos-envenenados-chaclacayo-delincuentes-veneno-perritos-salud-municipalidad-de-chaclacayo-noticia/\" itemprop=\"url\">Vecinos de Chaclacayo acusan a delincuentes de envenenar a perros de la zona para cometer delitos</a>\n",
      "\n",
      "<a class=\"story-item__title block overflow-hidden primary-font line-h-xs mt-10\" href=\"/deportes/futbol-peruano/angelo-campos-fiscalia-presentara-una-queja-por-caso-del-arquero-de-alianza-lima-noticia/\" itemprop=\"url\">Fiscalía presentará una queja por caso de Ángelo Campos</a>\n",
      "\n",
      "<a class=\"story-item__title block overflow-hidden primary-font line-h-xs mt-10\" href=\"/espectaculos/leysi-suarez-revela-su-triste-diagnostico-tengo-una-hemorragia-en-una-cuerda-vocal-diagnostico-enfermedad-salud-leysi-suarez-espectaculos-infidelidad-partida-de-su-papa-noticia/\" itemprop=\"url\">Leysi Suárez revela triste diagnóstico: “Tengo una hemorragia en una cuerda vocal”</a>\n",
      "\n",
      "<a class=\"story-item__title block overflow-hidden primary-font line-h-xs mt-10\" href=\"/peru/increible-hallan-la-tumba-del-sacerdote-de-pacopampa-de-hace-3-mil-anos-en-cajamarca-sacerdote-de-pacopampa-cajamarca-chota-ministerio-de-cultura-arqueologos-japoneses-y-peruanos-noticia/\" itemprop=\"url\">Cajamarca en los ojos del mundo: Hallan tumba del ‘Sacerdote de Pacopampa’ de hace 3 mil años</a>\n",
      "\n",
      "<a class=\"story-item__title block overflow-hidden primary-font line-h-xs mt-10\" href=\"/politica/alberto-otarola-premier-se-presenta-en-el-congreso-para-sustentar-pedido-de-facultades-legislativas-dina-boluarte-noticia/\" itemprop=\"url\">Premier se presenta en el Congreso para sustentar pedido de facultades legislativas</a>\n",
      "\n",
      "<a class=\"story-item__title block overflow-hidden primary-font line-h-xs mt-10\" href=\"/espectaculos/carlos-cacho-se-niega-a-llamar-ella-a-la-uchulu-que-dice-en-su-dni-uchulu-espectaculos-carlos-cacho-dni-andres-hurtado-la-casa-de-magaly-noticia/\" itemprop=\"url\">Carlos Cacho y Andrés Hurtado se niegan a llamar “ella” a la Uchulú: “¿Qué dice en su DNI?” </a>\n",
      "\n"
     ]
    }
   ],
   "source": [
    "NOTICIAS_html = soup.find_all('a',{'class':re.compile(f'story-item__title block*')})\n",
    "for ITEM in NOTICIAS_html :\n",
    "    print(ITEM, end='\\n\\n')"
   ]
  },
  {
   "cell_type": "code",
   "execution_count": 8,
   "id": "c5196087",
   "metadata": {},
   "outputs": [
    {
     "data": {
      "text/plain": [
       "['[Mayella Lloclla: “Los sueños poco a poco se pueden cumplir” [ENTREVISTA]\\n](/cultura/mayella-lloclla-los-suenos-poco-a-poco-se-pueden-cumplir-\\nentrevista-la-decision-de-amelia-pelicula-peruana-estreno-cineplanet-\\nfrancisco-lombardi-gustavo-bueno-actriz-noticia/)\\n\\n',\n",
       " '[Deysi Araujo critica a ‘La Casa de Magaly’: “Mucho abuelito han\\npuesto”](/espectaculos/local/deysi-araujo-chanca-a-la-casa-de-magaly-mucho-\\nabuelito-han-puesto-shirley-cherres-ya-caduco-que-dijo-deysi-sobre-chibolin-y-\\nalfredo-benavides-noticia/)\\n\\n',\n",
       " '[Condenan al exfiscal Abel Concha Calla a 9 años de prisión por tráfico de\\ninfluencias ](/politica/lo-ultimo-condenan-al-exfiscal-abel-concha-calla-a-\\nmas-de-9-anos-de-prision-por-trafico-de-influencias-abel-concha-calla-\\nreparacion-civil-prision-lambayeque-chiclayo-poder-judicial-ministerio-\\npublico-corte-suprema-david-cornejo-los-temerarios-del-crimen-noticia/)\\n\\n',\n",
       " '[Sunat sostiene nueva reunión con gremios para mejorar el cumplimiento\\ntributario](/economia/sunat-sostiene-nueva-reunion-con-gremios-para-mejorar-\\nel-cumplimiento-tributario-noticia/)\\n\\n',\n",
       " '[GORE Callao: Abren investigación por financiamiento de web para promocionar a\\ngobernador Ciro Castillo](/lima/lo-ultimo-gore-callao-abren-investigacion-por-\\nfinanciamiento-de-web-para-promocionar-a-gobernador-ciro-castillo-ministerio-\\npublico-noticia/)\\n\\n',\n",
       " '[‘Papá en Apuros’ llegará a los hogares peruanos: Lanzan nueva novela que\\ntiene la participación de la Marina](/cheka/papa-en-apuros-llegara-a-los-\\nhogares-peruanos-lanzan-nueva-novela-que-tiene-la-participacion-de-la-marina-\\nestreno-novela-familiar-actores-peruanos-papa-en-apuros-capitan-de-fragata-de-\\nla-marina-como-participa-la-marina-en-papa-en-apuros-de-que-trata-la-novela-\\npapa-en-apuros-quienes-conforman-el-elenco-de-papa-en-apuros-noticia/)\\n\\n',\n",
       " '[Los Olivos: Banda de delincuentes desata balacera tras ser captada robando un\\nedificio](/lima/policiales/los-olivos-banda-de-delincuentes-desata-balacera-\\ntras-ser-captados-robando-un-edificio-calle-9-cerca-al-parque-siglo-xxi-\\ncuatro-hombres-y-una-mujer-intentan-vaciar-departamento-noticia/)\\n\\n',\n",
       " '[Maju Mantilla: Nunca se habría separado de Gustavo Salcedo y ahora él entrena\\nen casa](/espectaculos/maju-mantilla-nunca-se-habria-separado-de-gustavo-\\nsalcedo-y-ahora-el-entrena-en-casa-maju-mantilla-espectaculos-gustavo-salcedo-\\nfarandula-magaly-medina-magaly-tv-la-firme-noticia/)\\n\\n',\n",
       " '[Militar se quita la vida para no ir a la cárcel tras sentencia por crimen de\\nVíctor Jara](/mundo/victor-jara-chile-militar-se-quita-la-vida-para-no-ir-a-\\nla-carcel-tras-sentencia-por-crimen-de-cantautor-chileno-hernan-chacon-soto-\\nsalvador-allende-noticia/)\\n\\n',\n",
       " '[VMT: Roban mascota a familia en la puerta de su casa](/lima/policiales/vmt-\\nroban-mascota-a-familia-en-la-puerta-de-su-casa-morita-villa-maria-del-\\ntriunfo-mototaxi-sujetos-armados-perrita-esterilizada-y-delicada-de-salud-\\nnoticia/)\\n\\n',\n",
       " '[‘El Gran Chef: Famosos’: Mayra Goñi y Armando Machuca quedaron\\nsentenciados](/espectaculos/local/el-gran-chef-famosos-mayra-goni-y-armando-\\nmachuca-pasan-a-noche-de-sentencia-leslie-stewart-mariella-zanetti-homenaje-a-\\nla-ciudad-heroica-de-tacna-noticia/)\\n\\n',\n",
       " '[VMT: Sicario disparó a su cómplice cuando iban a amenazar a una\\ncomerciante](/lima/policiales/vmt-sicario-disparo-a-su-complice-cuando-iban-a-\\namenazar-a-una-comerciante-villa-maria-del-triunfo-jiron-9-de-agosto-copiloto-\\ndispara-contra-el-conductor-noticia/)\\n\\n',\n",
       " '[Nicola Porcella debuta como conductor de programa mexicano ‘Hoy’: “Ya no soy\\nel más odiado” ](/espectaculos/nicola-porcella-debuta-como-conductor-en-tv-\\nmexicana-conoce-que-programa-cumplio-su-sueno-espacio-matutino-de-las-\\nestrellas-aeropuerto-de-la-ciudad-de-mexico-noticia/)\\n\\n',\n",
       " '[El matrimonio olvidado: el día en que Bermejo y su ahora delator estuvieron\\njuntos](/politica/el-matrimonio-olvidado-el-dia-en-que-bermejo-y-su-ahora-\\ndelator-estuvieron-juntos-guillermo-bermejo-yul-valdivia-asesor-los-\\noperadores-de-la-reconstruccion-noticia/)\\n\\n',\n",
       " '[Génesis acusa a mujer de intentar romper su relación: “mostró actitudes que\\nconsidero una falta de respeto”](/espectaculos/local/genesis-acusa-a-mujer-de-\\nintentar-romper-su-relacion-mostro-actitudes-que-considero-una-falta-de-\\nrespeto-kike-marquez-genesis-tapia-exchica-reality-divorcio-infidelidad-\\nabogada-conducta-deshonrosa-falta-de-respeto-noticia/)\\n\\n',\n",
       " '[Orlando Zagazeta: El peruano que vive en la selva y dedica su vida a salvar\\nanimales del tráfico ilegal](/peru/orlando-zagazeta-el-hombre-mono-peruano-\\nque-vive-en-la-selva-y-dedica-su-vida-a-salvar-animales-del-trafico-ilegal-\\norlando-zagazeta-riege-flora-y-fauna-selva-peruana-lima-trafico-ilegal-\\nanimales-silvestres-personaje-del-bicentenario-san-martin-noticia/)\\n\\n',\n",
       " '[Monkey Man: se estrena documental sobre el peruano que reinserta monos\\nsobrevivientes del tráfico animal](/peru/monkey-man-se-estrena-documental-\\nsobre-el-peruano-que-reinserta-monos-sobrevivientes-del-trafico-animal-\\ndocumental-monkey-man-trafico-animal-cinta-peruana-noticia/)\\n\\n',\n",
       " '[[OPINIÓN] Aldo Mariátegui: “Cine malo y de mala leche”](/opinion/opinion-\\naldo-mariategui-cine-malo-y-de-mala-leche-aldo-mariategui-paco-yunque-ii-\\nopinion-lombardi-noticia/)\\n\\n',\n",
       " '[[OPINIÓN] Richard Arce: “La agenda pendiente de la CVR”](/opinion/opinion-\\nrichard-arce-la-agenda-pendiente-de-la-cvr-ciencias-sociales-sendero-luminoso-\\nmrta-cvr-noticia/)\\n\\n',\n",
       " '[Vecinos de Chaclacayo acusan a delincuentes de envenenar a perros de la zona\\npara cometer delitos](/lima/vecinos-de-chaclacayo-acusan-a-delincuentes-de-\\nenvenenar-a-perros-de-la-zona-para-cometer-delitos-perritos-envenenados-\\nchaclacayo-delincuentes-veneno-perritos-salud-municipalidad-de-chaclacayo-\\nnoticia/)\\n\\n',\n",
       " '[Fiscalía presentará una queja por caso de Ángelo Campos](/deportes/futbol-\\nperuano/angelo-campos-fiscalia-presentara-una-queja-por-caso-del-arquero-de-\\nalianza-lima-noticia/)\\n\\n',\n",
       " '[Leysi Suárez revela triste diagnóstico: “Tengo una hemorragia en una cuerda\\nvocal”](/espectaculos/leysi-suarez-revela-su-triste-diagnostico-tengo-una-\\nhemorragia-en-una-cuerda-vocal-diagnostico-enfermedad-salud-leysi-suarez-\\nespectaculos-infidelidad-partida-de-su-papa-noticia/)\\n\\n',\n",
       " '[Cajamarca en los ojos del mundo: Hallan tumba del ‘Sacerdote de Pacopampa’ de\\nhace 3 mil años](/peru/increible-hallan-la-tumba-del-sacerdote-de-pacopampa-\\nde-hace-3-mil-anos-en-cajamarca-sacerdote-de-pacopampa-cajamarca-chota-\\nministerio-de-cultura-arqueologos-japoneses-y-peruanos-noticia/)\\n\\n',\n",
       " '[Premier se presenta en el Congreso para sustentar pedido de facultades\\nlegislativas](/politica/alberto-otarola-premier-se-presenta-en-el-congreso-\\npara-sustentar-pedido-de-facultades-legislativas-dina-boluarte-noticia/)\\n\\n',\n",
       " '[Carlos Cacho y Andrés Hurtado se niegan a llamar “ella” a la Uchulú: “¿Qué\\ndice en su DNI?” ](/espectaculos/carlos-cacho-se-niega-a-llamar-ella-a-la-\\nuchulu-que-dice-en-su-dni-uchulu-espectaculos-carlos-cacho-dni-andres-hurtado-\\nla-casa-de-magaly-noticia/)\\n\\n']"
      ]
     },
     "execution_count": 8,
     "metadata": {},
     "output_type": "execute_result"
    }
   ],
   "source": [
    "[html2text(str(noticia_html)) for noticia_html in NOTICIAS_html]"
   ]
  },
  {
   "cell_type": "code",
   "execution_count": null,
   "id": "6a06bc39",
   "metadata": {},
   "outputs": [],
   "source": []
  }
 ],
 "metadata": {
  "kernelspec": {
   "display_name": "env",
   "language": "python",
   "name": "python3"
  },
  "language_info": {
   "codemirror_mode": {
    "name": "ipython",
    "version": 3
   },
   "file_extension": ".py",
   "mimetype": "text/x-python",
   "name": "python",
   "nbconvert_exporter": "python",
   "pygments_lexer": "ipython3",
   "version": "3.11.12"
  }
 },
 "nbformat": 4,
 "nbformat_minor": 5
}
